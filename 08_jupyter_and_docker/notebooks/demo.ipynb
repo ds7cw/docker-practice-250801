{
 "cells": [
  {
   "cell_type": "code",
   "execution_count": null,
   "id": "a542a941",
   "metadata": {
    "vscode": {
     "languageId": "plaintext"
    }
   },
   "outputs": [],
   "source": [
    "import pandas as pd\n",
    "import matplotlib.pyplot as plt"
   ]
  },
  {
   "cell_type": "markdown",
   "id": "71cfb651",
   "metadata": {},
   "source": [
    "### Example dataset — tiny sales log"
   ]
  },
  {
   "cell_type": "code",
   "execution_count": null,
   "id": "0d997bd1",
   "metadata": {
    "vscode": {
     "languageId": "plaintext"
    }
   },
   "outputs": [],
   "source": [
    "data = {\n",
    "    \"Date\": pd.date_range(\"2023-01-01\", periods=8, freq=\"D\"),\n",
    "    \"Region\": [\"North\", \"South\", \"East\", \"West\"] * 2,\n",
    "    \"Product\": [\"Widget\", \"Widget\", \"Gadget\", \"Gadget\"] * 2,\n",
    "    \"Units_Sold\": [12, 8, 15, 7, 10, 14, 9, 11],\n",
    "    \"Unit_Price\": [20.0, 20.0, 35.0, 35.0, 20.0, 20.0, 35.0, 35.0]\n",
    "}\n",
    "\n",
    "df = pd.DataFrame(data)"
   ]
  },
  {
   "cell_type": "markdown",
   "id": "bd148338",
   "metadata": {},
   "source": [
    "### Calculate total revenue per row"
   ]
  },
  {
   "cell_type": "code",
   "execution_count": null,
   "id": "dadfc0f6",
   "metadata": {
    "vscode": {
     "languageId": "plaintext"
    }
   },
   "outputs": [],
   "source": [
    "df[\"Revenue\"] = df[\"Units_Sold\"] * df[\"Unit_Price\"]\n",
    "\n",
    "print(\"Full dataset:\\n\", df)"
   ]
  },
  {
   "cell_type": "markdown",
   "id": "23496d67",
   "metadata": {},
   "source": [
    "### Filter for high-performing regions"
   ]
  },
  {
   "cell_type": "code",
   "execution_count": null,
   "id": "5ea7b31b",
   "metadata": {
    "vscode": {
     "languageId": "plaintext"
    }
   },
   "outputs": [],
   "source": [
    "high_perf = df[df[\"Revenue\"] > 300]\n",
    "print(\"\\nHigh revenue rows:\\n\", high_perf)"
   ]
  },
  {
   "cell_type": "markdown",
   "id": "1d0cc2f4",
   "metadata": {},
   "source": [
    "### Group by region, sum revenue & units sold"
   ]
  },
  {
   "cell_type": "code",
   "execution_count": null,
   "id": "e292f2ed",
   "metadata": {
    "vscode": {
     "languageId": "plaintext"
    }
   },
   "outputs": [],
   "source": [
    "summary = df.groupby(\"Region\").agg({\n",
    "    \"Units_Sold\": \"sum\",\n",
    "    \"Revenue\": \"sum\"\n",
    "}).sort_values(\"Revenue\", ascending=False)\n",
    "\n",
    "print(\"\\nRevenue by region:\\n\", summary)"
   ]
  },
  {
   "cell_type": "markdown",
   "id": "5ffc8448",
   "metadata": {},
   "source": [
    "### Plot the revenue by region"
   ]
  },
  {
   "cell_type": "code",
   "execution_count": null,
   "id": "39b8345e",
   "metadata": {
    "vscode": {
     "languageId": "plaintext"
    }
   },
   "outputs": [],
   "source": [
    "summary[\"Revenue\"].plot(kind=\"bar\", color=\"skyblue\", title=\"Revenue by Region\")\n",
    "plt.ylabel(\"Revenue ($)\")\n",
    "plt.tight_layout()\n",
    "plt.show()"
   ]
  }
 ],
 "metadata": {
  "language_info": {
   "name": "python"
  }
 },
 "nbformat": 4,
 "nbformat_minor": 5
}
